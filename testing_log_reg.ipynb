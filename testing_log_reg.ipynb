{
 "cells": [
  {
   "cell_type": "markdown",
   "id": "18eac41a-8375-4029-aa8b-46aa1849a87d",
   "metadata": {
    "tags": []
   },
   "source": [
    "# Base LogisticRegression\n",
    "In this notebook, the implementation of Logistic Regression will be disassembled and compared with the implementation of sklearn. <br>\n",
    "\n",
    "The model takes a feature vector <font size=\"3\"> $\\vec{x} = (1, x_1, x_2, ..., x_n)$ </font>, each class has its own weights <font size=\"3\"> $\\vec{w}$</font>.<br>\n",
    "We get the scalar product between the vector of weights and the vector of features as in linear regression: <font size=\"3\"> $$\\sum_1^n w_ix_i$$ </font>\n",
    "\n",
    "The result of the scalar product is substituted into the sigmoid function: <br>\n",
    "<p style=\"text-align: center;\"><font size=\"3\"> $$\\hat{f}(x) = \\sigma(wx) = {1\\over 1 + e^{-wx}}$$ </font></p>\n",
    "\n",
    "Based on the likelihood function for training any model, where <font size=\"3\"> $X$ </font> is a feature vector, <font size=\"3\"> $\\hat{f}(x)$ </font> is our model, we can construct a loss function:\n",
    "<p style=\"text-align: center;\"><font size=\"3\"> $$P(Y = 1|X) = \\hat{f}(x)$$ </font></p>\n",
    "Let's call it plausibility:\n",
    "<p style=\"text-align: center;\"><font size=\"3\"> $$\\prod_1^n P(Y = y_i|x_i)$$ </font></p>\n",
    "A theorem from statistics guarantees that if we find model parameters that maximize likelihood, then they will be good: <br>\n",
    "<p style=\"text-align: center;\"><font size=\"3\"> $$\\prod_1^n P(Y = y_i|x_i) → max$$</font></p>\n",
    "<p style=\"text-align: center;\"><font size=\"3\"> $$\\ln(\\prod_1^n P(Y = y_i|x_i)) → max$$</font></p>\n",
    "Let's transform the maximization problem into the minimization problem:\n",
    "<p style=\"text-align: center;\"><font size=\"3\"> $$L(w) = -\\ln(\\prod_1^n P(Y = y_i|x_i)) → min$$ </font></p>\n",
    "Let's assume that our model predicts probabilities:\n",
    "<p style=\"text-align: center;\"><font size=\"3\"> $$\\ln(P(Y = y_i|x_i)) = y_i\\ln(\\hat{f}(x_i)) + (1 - y_i)\\ln(1 - \\hat{f}(x_i))$$ </font></p>\n",
    "The probability predicted by logistic regression can be substituted into the previously obtained loss function:\n",
    "<p style=\"text-align: center;\"><font size=\"3\"> $$L(w) = -\\sum_1^ny_i\\ln(\\hat{f}(x_i)) + (1 - y_i)\\ln(1 - \\hat{f}(x_i))$$ </font></p>"
   ]
  },
  {
   "cell_type": "markdown",
   "id": "5a41375e-5e61-4b2c-a490-5c93aa9094a8",
   "metadata": {},
   "source": [
    "### Load libraries and packages"
   ]
  },
  {
   "cell_type": "code",
   "execution_count": 1,
   "id": "552a2b3e-bdca-4685-8e4a-feeff424984a",
   "metadata": {},
   "outputs": [],
   "source": [
    "import warnings\n",
    "import gc\n",
    "warnings.filterwarnings('ignore')\n",
    "\n",
    "import numpy as np\n",
    "import pandas as pd\n",
    "\n",
    "from models.linear import LogisticRegression as MyLogisticRegression\n",
    "from sklearn.linear_model import LogisticRegression\n",
    "\n",
    "from matplotlib import pyplot as plt\n",
    "%matplotlib inline\n",
    "import seaborn as sns"
   ]
  },
  {
   "cell_type": "markdown",
   "id": "18f4c313-3acf-4975-bed7-491eadba1be5",
   "metadata": {},
   "source": [
    "### Load Data\n",
    "First let's look at the data:"
   ]
  },
  {
   "cell_type": "code",
   "execution_count": 2,
   "id": "94fb8f30-844e-4941-a4c7-d5c779bc07b5",
   "metadata": {},
   "outputs": [
    {
     "data": {
      "text/html": [
       "<div>\n",
       "<style scoped>\n",
       "    .dataframe tbody tr th:only-of-type {\n",
       "        vertical-align: middle;\n",
       "    }\n",
       "\n",
       "    .dataframe tbody tr th {\n",
       "        vertical-align: top;\n",
       "    }\n",
       "\n",
       "    .dataframe thead th {\n",
       "        text-align: right;\n",
       "    }\n",
       "</style>\n",
       "<table border=\"1\" class=\"dataframe\">\n",
       "  <thead>\n",
       "    <tr style=\"text-align: right;\">\n",
       "      <th></th>\n",
       "      <th>Survey_id</th>\n",
       "      <th>Ville_id</th>\n",
       "      <th>sex</th>\n",
       "      <th>Age</th>\n",
       "      <th>Married</th>\n",
       "      <th>Number_children</th>\n",
       "      <th>education_level</th>\n",
       "      <th>total_members</th>\n",
       "      <th>gained_asset</th>\n",
       "      <th>durable_asset</th>\n",
       "      <th>...</th>\n",
       "      <th>incoming_salary</th>\n",
       "      <th>incoming_own_farm</th>\n",
       "      <th>incoming_business</th>\n",
       "      <th>incoming_no_business</th>\n",
       "      <th>incoming_agricultural</th>\n",
       "      <th>farm_expenses</th>\n",
       "      <th>labor_primary</th>\n",
       "      <th>lasting_investment</th>\n",
       "      <th>no_lasting_investmen</th>\n",
       "      <th>depressed</th>\n",
       "    </tr>\n",
       "  </thead>\n",
       "  <tbody>\n",
       "    <tr>\n",
       "      <th>0</th>\n",
       "      <td>926</td>\n",
       "      <td>91</td>\n",
       "      <td>1</td>\n",
       "      <td>28</td>\n",
       "      <td>1</td>\n",
       "      <td>4</td>\n",
       "      <td>10</td>\n",
       "      <td>5</td>\n",
       "      <td>28912201</td>\n",
       "      <td>22861940</td>\n",
       "      <td>...</td>\n",
       "      <td>0</td>\n",
       "      <td>0</td>\n",
       "      <td>0</td>\n",
       "      <td>0</td>\n",
       "      <td>30028818</td>\n",
       "      <td>31363432</td>\n",
       "      <td>0</td>\n",
       "      <td>28411718</td>\n",
       "      <td>28292707.0</td>\n",
       "      <td>0</td>\n",
       "    </tr>\n",
       "    <tr>\n",
       "      <th>1</th>\n",
       "      <td>747</td>\n",
       "      <td>57</td>\n",
       "      <td>1</td>\n",
       "      <td>23</td>\n",
       "      <td>1</td>\n",
       "      <td>3</td>\n",
       "      <td>8</td>\n",
       "      <td>5</td>\n",
       "      <td>28912201</td>\n",
       "      <td>22861940</td>\n",
       "      <td>...</td>\n",
       "      <td>0</td>\n",
       "      <td>0</td>\n",
       "      <td>0</td>\n",
       "      <td>0</td>\n",
       "      <td>30028818</td>\n",
       "      <td>31363432</td>\n",
       "      <td>0</td>\n",
       "      <td>28411718</td>\n",
       "      <td>28292707.0</td>\n",
       "      <td>1</td>\n",
       "    </tr>\n",
       "    <tr>\n",
       "      <th>2</th>\n",
       "      <td>1190</td>\n",
       "      <td>115</td>\n",
       "      <td>1</td>\n",
       "      <td>22</td>\n",
       "      <td>1</td>\n",
       "      <td>3</td>\n",
       "      <td>9</td>\n",
       "      <td>5</td>\n",
       "      <td>28912201</td>\n",
       "      <td>22861940</td>\n",
       "      <td>...</td>\n",
       "      <td>0</td>\n",
       "      <td>0</td>\n",
       "      <td>0</td>\n",
       "      <td>0</td>\n",
       "      <td>30028818</td>\n",
       "      <td>31363432</td>\n",
       "      <td>0</td>\n",
       "      <td>28411718</td>\n",
       "      <td>28292707.0</td>\n",
       "      <td>0</td>\n",
       "    </tr>\n",
       "    <tr>\n",
       "      <th>3</th>\n",
       "      <td>1065</td>\n",
       "      <td>97</td>\n",
       "      <td>1</td>\n",
       "      <td>27</td>\n",
       "      <td>1</td>\n",
       "      <td>2</td>\n",
       "      <td>10</td>\n",
       "      <td>4</td>\n",
       "      <td>52667108</td>\n",
       "      <td>19698904</td>\n",
       "      <td>...</td>\n",
       "      <td>0</td>\n",
       "      <td>1</td>\n",
       "      <td>0</td>\n",
       "      <td>1</td>\n",
       "      <td>22288055</td>\n",
       "      <td>18751329</td>\n",
       "      <td>0</td>\n",
       "      <td>7781123</td>\n",
       "      <td>69219765.0</td>\n",
       "      <td>0</td>\n",
       "    </tr>\n",
       "    <tr>\n",
       "      <th>4</th>\n",
       "      <td>806</td>\n",
       "      <td>42</td>\n",
       "      <td>0</td>\n",
       "      <td>59</td>\n",
       "      <td>0</td>\n",
       "      <td>4</td>\n",
       "      <td>10</td>\n",
       "      <td>6</td>\n",
       "      <td>82606287</td>\n",
       "      <td>17352654</td>\n",
       "      <td>...</td>\n",
       "      <td>1</td>\n",
       "      <td>0</td>\n",
       "      <td>0</td>\n",
       "      <td>0</td>\n",
       "      <td>53384566</td>\n",
       "      <td>20731006</td>\n",
       "      <td>1</td>\n",
       "      <td>20100562</td>\n",
       "      <td>43419447.0</td>\n",
       "      <td>0</td>\n",
       "    </tr>\n",
       "  </tbody>\n",
       "</table>\n",
       "<p>5 rows × 23 columns</p>\n",
       "</div>"
      ],
      "text/plain": [
       "   Survey_id  Ville_id  sex  Age  Married  Number_children  education_level  \\\n",
       "0        926        91    1   28        1                4               10   \n",
       "1        747        57    1   23        1                3                8   \n",
       "2       1190       115    1   22        1                3                9   \n",
       "3       1065        97    1   27        1                2               10   \n",
       "4        806        42    0   59        0                4               10   \n",
       "\n",
       "   total_members  gained_asset  durable_asset  ...  incoming_salary  \\\n",
       "0              5      28912201       22861940  ...                0   \n",
       "1              5      28912201       22861940  ...                0   \n",
       "2              5      28912201       22861940  ...                0   \n",
       "3              4      52667108       19698904  ...                0   \n",
       "4              6      82606287       17352654  ...                1   \n",
       "\n",
       "   incoming_own_farm  incoming_business  incoming_no_business  \\\n",
       "0                  0                  0                     0   \n",
       "1                  0                  0                     0   \n",
       "2                  0                  0                     0   \n",
       "3                  1                  0                     1   \n",
       "4                  0                  0                     0   \n",
       "\n",
       "   incoming_agricultural  farm_expenses  labor_primary  lasting_investment  \\\n",
       "0               30028818       31363432              0            28411718   \n",
       "1               30028818       31363432              0            28411718   \n",
       "2               30028818       31363432              0            28411718   \n",
       "3               22288055       18751329              0             7781123   \n",
       "4               53384566       20731006              1            20100562   \n",
       "\n",
       "   no_lasting_investmen  depressed  \n",
       "0            28292707.0          0  \n",
       "1            28292707.0          1  \n",
       "2            28292707.0          0  \n",
       "3            69219765.0          0  \n",
       "4            43419447.0          0  \n",
       "\n",
       "[5 rows x 23 columns]"
      ]
     },
     "execution_count": 2,
     "metadata": {},
     "output_type": "execute_result"
    }
   ],
   "source": [
    "data = pd.read_csv('b_depressed.csv')\n",
    "data.head()"
   ]
  },
  {
   "cell_type": "code",
   "execution_count": 3,
   "id": "ce9ddcd3-97a7-47ed-94c5-2e300ba987e9",
   "metadata": {},
   "outputs": [
    {
     "data": {
      "text/plain": [
       "Survey_id                  int64\n",
       "Ville_id                   int64\n",
       "sex                        int64\n",
       "Age                        int64\n",
       "Married                    int64\n",
       "Number_children            int64\n",
       "education_level            int64\n",
       "total_members              int64\n",
       "gained_asset               int64\n",
       "durable_asset              int64\n",
       "save_asset                 int64\n",
       "living_expenses            int64\n",
       "other_expenses             int64\n",
       "incoming_salary            int64\n",
       "incoming_own_farm          int64\n",
       "incoming_business          int64\n",
       "incoming_no_business       int64\n",
       "incoming_agricultural      int64\n",
       "farm_expenses              int64\n",
       "labor_primary              int64\n",
       "lasting_investment         int64\n",
       "no_lasting_investmen     float64\n",
       "depressed                  int64\n",
       "dtype: object"
      ]
     },
     "execution_count": 3,
     "metadata": {},
     "output_type": "execute_result"
    }
   ],
   "source": [
    "data.dtypes"
   ]
  },
  {
   "cell_type": "code",
   "execution_count": 4,
   "id": "88e01af6-6053-4622-a766-7d0f7cdaab48",
   "metadata": {},
   "outputs": [
    {
     "data": {
      "text/plain": [
       "(1429, 23)"
      ]
     },
     "execution_count": 4,
     "metadata": {},
     "output_type": "execute_result"
    }
   ],
   "source": [
    "data.shape"
   ]
  },
  {
   "cell_type": "code",
   "execution_count": 5,
   "id": "3eb73e89-de15-44f1-b47f-4fea514141df",
   "metadata": {},
   "outputs": [
    {
     "data": {
      "text/plain": [
       "0    1191\n",
       "1     238\n",
       "Name: depressed, dtype: int64"
      ]
     },
     "execution_count": 5,
     "metadata": {},
     "output_type": "execute_result"
    }
   ],
   "source": [
    "data['depressed'].value_counts()"
   ]
  },
  {
   "cell_type": "markdown",
   "id": "2333658d-b74a-4d54-9f69-9a6856a5495b",
   "metadata": {},
   "source": [
    "A little data preprocessing - fill in the gaps with median values:"
   ]
  },
  {
   "cell_type": "code",
   "execution_count": 6,
   "id": "f8af6947-ebbc-4723-8aa0-94e42d4f03fc",
   "metadata": {},
   "outputs": [],
   "source": [
    "for col in data.columns:\n",
    "    data[col] = data[col].fillna(np.median(data[col]))"
   ]
  },
  {
   "cell_type": "markdown",
   "id": "884fa742-b5a8-4c4d-bf82-a3a44e2443a2",
   "metadata": {},
   "source": [
    "### Let's create training and test samples"
   ]
  },
  {
   "cell_type": "code",
   "execution_count": 7,
   "id": "24585f38-4ce0-4b37-86be-4f69d013c651",
   "metadata": {},
   "outputs": [
    {
     "name": "stdout",
     "output_type": "stream",
     "text": [
      "1000 429\n"
     ]
    }
   ],
   "source": [
    "from sklearn.model_selection import train_test_split\n",
    "\n",
    "X_train, X_holdout, y_train, y_test = train_test_split(data.drop(['Survey_id', 'no_lasting_investmen'], axis=1), \n",
    "                                                       data['depressed'], \n",
    "                                                       test_size=0.3, \n",
    "                                                       random_state=17)\n",
    "print(X_train.shape[0], X_holdout.shape[0])"
   ]
  },
  {
   "cell_type": "markdown",
   "id": "e83e911d-8c5c-4e8e-9ba1-446486512657",
   "metadata": {},
   "source": [
    "### Create models"
   ]
  },
  {
   "cell_type": "code",
   "execution_count": 8,
   "id": "bd7054d4-341c-4d58-bc55-55c23bb5df6f",
   "metadata": {},
   "outputs": [],
   "source": [
    "my_model = MyLogisticRegression.LogisticRegression(random_state=17)\n",
    "sk_model = LogisticRegression(max_iter=100)"
   ]
  },
  {
   "cell_type": "code",
   "execution_count": 9,
   "id": "e99cabcc-823d-4994-9d86-5ec7d40602c2",
   "metadata": {},
   "outputs": [
    {
     "data": {
      "text/plain": [
       "array([[      64,        1,       27, ...,        1,  5332699,        0],\n",
       "       [     292,        1,       21, ...,        0, 12795455,        0],\n",
       "       [      82,        1,       86, ...,        0, 25397076,        0],\n",
       "       ...,\n",
       "       [       3,        0,       75, ...,        0, 28827665,        0],\n",
       "       [     102,        1,       23, ...,        1, 16527861,        0],\n",
       "       [      74,        1,       28, ...,        1, 23753336,        0]],\n",
       "      dtype=int64)"
      ]
     },
     "execution_count": 9,
     "metadata": {},
     "output_type": "execute_result"
    }
   ],
   "source": [
    "X_train.values"
   ]
  },
  {
   "cell_type": "code",
   "execution_count": 10,
   "id": "0d24516c-1b0c-4c52-940d-e13734e097b2",
   "metadata": {},
   "outputs": [
    {
     "ename": "ValueError",
     "evalue": "shapes (1000,22) and (1000,) not aligned: 22 (dim 1) != 1000 (dim 0)",
     "output_type": "error",
     "traceback": [
      "\u001b[1;31m---------------------------------------------------------------------------\u001b[0m",
      "\u001b[1;31mValueError\u001b[0m                                Traceback (most recent call last)",
      "File \u001b[1;32m<timed exec>:1\u001b[0m, in \u001b[0;36m<module>\u001b[1;34m\u001b[0m\n",
      "File \u001b[1;32m~\\Desktop\\Data Science\\Проекты\\ml_practice\\models\\linear\\LogisticRegression.py:49\u001b[0m, in \u001b[0;36mLogisticRegression.fit\u001b[1;34m(self, X, y, epochs, lr, batch_size)\u001b[0m\n\u001b[0;32m     40\u001b[0m \u001b[38;5;66;03m# for i in range(epochs):\u001b[39;00m\n\u001b[0;32m     41\u001b[0m \u001b[38;5;66;03m#     for X_batch, y_batch in batch_generator(X, y, batch_size, self.random_state):\u001b[39;00m\n\u001b[0;32m     42\u001b[0m \u001b[38;5;66;03m#         predictions = self.predict_proba_internal(X_batch)\u001b[39;00m\n\u001b[1;32m   (...)\u001b[0m\n\u001b[0;32m     46\u001b[0m \u001b[38;5;66;03m#\u001b[39;00m\n\u001b[0;32m     47\u001b[0m \u001b[38;5;66;03m#         self.w = self.w - (lr * self.get_grad(X_batch, y_batch, predictions))\u001b[39;00m\n\u001b[0;32m     48\u001b[0m \u001b[38;5;28;01mfor\u001b[39;00m i \u001b[38;5;129;01min\u001b[39;00m \u001b[38;5;28mrange\u001b[39m(epochs):\n\u001b[1;32m---> 49\u001b[0m     predictions \u001b[38;5;241m=\u001b[39m \u001b[38;5;28;43mself\u001b[39;49m\u001b[38;5;241;43m.\u001b[39;49m\u001b[43mpredict_proba_internal\u001b[49m\u001b[43m(\u001b[49m\u001b[43mX\u001b[49m\u001b[43m)\u001b[49m\n\u001b[0;32m     51\u001b[0m     loss \u001b[38;5;241m=\u001b[39m \u001b[38;5;28mself\u001b[39m\u001b[38;5;241m.\u001b[39m__loss(y, predictions)\n\u001b[0;32m     52\u001b[0m     loses\u001b[38;5;241m.\u001b[39mappend(loss)\n",
      "File \u001b[1;32m~\\Desktop\\Data Science\\Проекты\\ml_practice\\models\\linear\\LogisticRegression.py:68\u001b[0m, in \u001b[0;36mLogisticRegression.predict_proba_internal\u001b[1;34m(self, X)\u001b[0m\n\u001b[0;32m     67\u001b[0m \u001b[38;5;28;01mdef\u001b[39;00m \u001b[38;5;21mpredict_proba_internal\u001b[39m(\u001b[38;5;28mself\u001b[39m, X):\n\u001b[1;32m---> 68\u001b[0m     \u001b[38;5;28;01mreturn\u001b[39;00m sigmoid(\u001b[43mlogit\u001b[49m\u001b[43m(\u001b[49m\u001b[43mX\u001b[49m\u001b[43m,\u001b[49m\u001b[43m \u001b[49m\u001b[38;5;28;43mself\u001b[39;49m\u001b[38;5;241;43m.\u001b[39;49m\u001b[43mw\u001b[49m\u001b[43m)\u001b[49m)\n",
      "File \u001b[1;32m~\\Desktop\\Data Science\\Проекты\\ml_practice\\models\\linear\\LogisticRegression.py:12\u001b[0m, in \u001b[0;36mlogit\u001b[1;34m(X, w)\u001b[0m\n\u001b[0;32m      5\u001b[0m \u001b[38;5;28;01mdef\u001b[39;00m \u001b[38;5;21mlogit\u001b[39m(X, w):\n\u001b[0;32m      6\u001b[0m     \u001b[38;5;124;03m\"\"\"\u001b[39;00m\n\u001b[0;32m      7\u001b[0m \n\u001b[0;32m      8\u001b[0m \u001b[38;5;124;03m    :param X: np.array([n_objects, n_features])\u001b[39;00m\n\u001b[0;32m      9\u001b[0m \u001b[38;5;124;03m    :param w: np.array([weights])\u001b[39;00m\n\u001b[0;32m     10\u001b[0m \u001b[38;5;124;03m    :return: vector of scalar products of weights and features\u001b[39;00m\n\u001b[0;32m     11\u001b[0m \u001b[38;5;124;03m    \"\"\"\u001b[39;00m\n\u001b[1;32m---> 12\u001b[0m     \u001b[38;5;28;01mreturn\u001b[39;00m \u001b[43mnp\u001b[49m\u001b[38;5;241;43m.\u001b[39;49m\u001b[43mdot\u001b[49m\u001b[43m(\u001b[49m\u001b[43mX\u001b[49m\u001b[43m,\u001b[49m\u001b[43m \u001b[49m\u001b[43mw\u001b[49m\u001b[43m)\u001b[49m\n",
      "File \u001b[1;32m<__array_function__ internals>:5\u001b[0m, in \u001b[0;36mdot\u001b[1;34m(*args, **kwargs)\u001b[0m\n",
      "\u001b[1;31mValueError\u001b[0m: shapes (1000,22) and (1000,) not aligned: 22 (dim 1) != 1000 (dim 0)"
     ]
    }
   ],
   "source": [
    "%time loses_my_model = my_model.fit(X_train.values, y_train.values)"
   ]
  },
  {
   "cell_type": "code",
   "execution_count": null,
   "id": "c4674794-48be-4f1d-b5a0-85b7e9cf2002",
   "metadata": {},
   "outputs": [],
   "source": []
  }
 ],
 "metadata": {
  "kernelspec": {
   "display_name": "Python 3 (ipykernel)",
   "language": "python",
   "name": "python3"
  },
  "language_info": {
   "codemirror_mode": {
    "name": "ipython",
    "version": 3
   },
   "file_extension": ".py",
   "mimetype": "text/x-python",
   "name": "python",
   "nbconvert_exporter": "python",
   "pygments_lexer": "ipython3",
   "version": "3.9.12"
  }
 },
 "nbformat": 4,
 "nbformat_minor": 5
}
